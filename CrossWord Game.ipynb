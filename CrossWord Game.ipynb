{
 "cells": [
  {
   "cell_type": "code",
   "execution_count": 3,
   "metadata": {},
   "outputs": [],
   "source": [
    "# Guessing the Word Game"
   ]
  },
  {
   "cell_type": "code",
   "execution_count": 2,
   "metadata": {
    "scrolled": false
   },
   "outputs": [
    {
     "name": "stdout",
     "output_type": "stream",
     "text": [
      "Enter your name: Shilpa\n",
      "Hello Shilpa: Welcome to the CrossWord Game \n",
      "e _ r _ _ _ n e _ \n",
      " Guess a character: a\n",
      "e a r _ _ _ n e _ \n",
      " Guess a character: n\n",
      "e a r _ _ _ n e _ \n",
      " Guess a character: l\n",
      "\n",
      "Wrong Answer!!\n",
      "You have 9 chances left!\n",
      "e a r _ _ _ n e _ \n",
      " Guess a character: p\n",
      "e a r p _ _ n e _ \n",
      " Guess a character: h\n",
      "e a r p h _ n e _ \n",
      " Guess a character: m\n",
      "\n",
      "Wrong Answer!!\n",
      "You have 8 chances left!\n",
      "e a r p h _ n e _ \n",
      " Guess a character: o\n",
      "e a r p h o n e _ \n",
      " Guess a character: s\n",
      "e a r p h o n e s \n",
      "You Won!\n",
      "Your score is: 80\n",
      "Do you want to play again? (Yes/No):No\n",
      "Thanks for playing the guessing the word game:)\n"
     ]
    }
   ],
   "source": [
    "import random \n",
    "\n",
    "name = input(\"Enter your name: \") \n",
    "print(f\"Hello {name}: Welcome to the CrossWord Game \")\n",
    "#list of words\n",
    "words = [\"apple\", \"laptop\",\"macbook\",\"pubgmobile\",\"python\",\"gaming\",\"words\",\n",
    "         \"bookworm\",\"golang\",\"github\",\"earphones\"] \n",
    "# get a random word from the list\n",
    "index = random.randint(0,len(words)) # random indexes of the words in the list\n",
    "word = words[index]\n",
    "\n",
    "# random indexes of the characters of the words exit in the list\n",
    "indexes = random.sample(range(0,len(word)),3)\n",
    "\n",
    "guesses = \"\" #characters that the user has guessed \n",
    "\n",
    "# default characters at the indexes of the word\n",
    "for i in indexes:\n",
    "    guesses += word[i]\n",
    "    chances = 10\n",
    "\n",
    "def playagain():\n",
    "    #this will help you understand scoping\n",
    "    global play\n",
    "    play = input(\"Do you want to play again? (Yes/No):\")\n",
    "    if play == \"Yes\":\n",
    "        global chances, word,guesses\n",
    "        chances = 10\n",
    "        index = random.randint(0,len(words)) # random indexes of the words in the list\n",
    "        word = words[index]\n",
    "        indexes = random.sample(range(0, len(word)),3)\n",
    "        guesses = \"\"\n",
    "        for i in indexes:\n",
    "            guesses += word[i]\n",
    "            \n",
    "\n",
    "# Do you want to play again functionality \n",
    "play = \"Yes\" # this play is global variable\n",
    "while play == \"Yes\":\n",
    "    while chances > 0:\n",
    "        won = True \n",
    "        for ch in word:\n",
    "            if ch in guesses:  # the person has guesses\n",
    "                print(ch, end = \" \")\n",
    "            else:\n",
    "                print(\"_\", end=\" \")\n",
    "                won = False \n",
    "        if won:\n",
    "            print(\"\\nYou Won!\")\n",
    "            print(f\"Your score is: {chances * 10}\")\n",
    "            # ask if you want to play again\n",
    "            playagain()\n",
    "            break \n",
    "            \n",
    "        # take a guess from a user\n",
    "        guess = input(\"\\n Guess a character: \")\n",
    "        guesses += guess \n",
    "    \n",
    "        if guess not in word:\n",
    "            chances -= 1\n",
    "            print(\"\\nWrong Answer!!\")\n",
    "            print(f\"You have {chances} chances left!\")\n",
    "        \n",
    "            if chances == 0:\n",
    "                print(\"You lose!\")\n",
    "                # ask if you want to play again\n",
    "                playagain()\n",
    "                break\n",
    "print(\"Thanks for playing the guessing the word game:)\")\n",
    "            \n"
   ]
  },
  {
   "cell_type": "code",
   "execution_count": null,
   "metadata": {},
   "outputs": [],
   "source": []
  }
 ],
 "metadata": {
  "kernelspec": {
   "display_name": "Python 3",
   "language": "python",
   "name": "python3"
  },
  "language_info": {
   "codemirror_mode": {
    "name": "ipython",
    "version": 3
   },
   "file_extension": ".py",
   "mimetype": "text/x-python",
   "name": "python",
   "nbconvert_exporter": "python",
   "pygments_lexer": "ipython3",
   "version": "3.8.3"
  }
 },
 "nbformat": 4,
 "nbformat_minor": 4
}
